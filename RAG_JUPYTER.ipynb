{
 "cells": [
  {
   "cell_type": "markdown",
   "metadata": {},
   "source": [
    "# Ver. 1"
   ]
  },
  {
   "cell_type": "code",
   "execution_count": null,
   "metadata": {},
   "outputs": [],
   "source": [
    "import os\n",
    "\n",
    "from langchain.schema.runnable import RunnableMap\n",
    "from langchain.prompts import ChatPromptTemplate\n",
    "import google.generativeai as genai\n",
    "from langchain_google_genai import ChatGoogleGenerativeAI\n",
    "from langchain_google_genai import GoogleGenerativeAIEmbeddings\n",
    "from langchain_community.vectorstores import DocArrayInMemorySearch\n",
    "from langchain.schema.output_parser import StrOutputParser\n",
    "from dotenv import load_dotenv\n"
   ]
  },
  {
   "cell_type": "code",
   "execution_count": null,
   "metadata": {},
   "outputs": [],
   "source": [
    "load_dotenv()\n"
   ]
  },
  {
   "cell_type": "code",
   "execution_count": null,
   "metadata": {},
   "outputs": [],
   "source": [
    "genai.configure(api_key=os.environ[\"GOOGLE_API_KEY\"])\n",
    "\n",
    "llm = ChatGoogleGenerativeAI(model=\"gemini-pro\",\n",
    "                             temperature=0.7)"
   ]
  },
  {
   "cell_type": "code",
   "execution_count": null,
   "metadata": {},
   "outputs": [],
   "source": [
    "with open(r'assets/general_qna - Copy.txt','r') as file:\n",
    "    data = file.read()\n"
   ]
  },
  {
   "cell_type": "code",
   "execution_count": null,
   "metadata": {},
   "outputs": [],
   "source": [
    "embeddings = GoogleGenerativeAIEmbeddings(model=\"models/embedding-001\")\n",
    "\n",
    "vectorstore = DocArrayInMemorySearch.from_texts(\n",
    "    # mini docs for embedding\n",
    "    data.split('\\n'),\n",
    "    embedding=embeddings # passing in the embedder model\n",
    ")\n"
   ]
  },
  {
   "cell_type": "code",
   "execution_count": null,
   "metadata": {},
   "outputs": [],
   "source": [
    "template = \"\"\"\n",
    "Your name is SAMBHU who is an ARTIFICIAL INTELLIGENCE who help Students to remain query free\n",
    "Answer the question in humanized sentence, based only on the following context:\n",
    "\n",
    "WHEN question is out of context say the below: \n",
    "`Can't help here you may contact here :https://wa.me/+919819342606` except if you are asked about you identity\n",
    "\n",
    "{context}\n",
    "\n",
    "Return Answer in single sencentence in markdown format with futher which can be asked\n",
    "\n",
    "Question: {question}\n",
    "\"\"\"\n"
   ]
  },
  {
   "cell_type": "code",
   "execution_count": null,
   "metadata": {},
   "outputs": [],
   "source": [
    "prompt = ChatPromptTemplate.from_template(template)\n",
    "output_parser = StrOutputParser()\n",
    "\n",
    "\n",
    "retriever = vectorstore.as_retriever()\n",
    "\n",
    "chain = RunnableMap({\n",
    "    \"context\": lambda x: retriever.get_relevant_documents(x[\"question\"]),\n",
    "    \"question\": lambda x: x[\"question\"]\n",
    "}) | prompt | llm | output_parser"
   ]
  },
  {
   "cell_type": "code",
   "execution_count": null,
   "metadata": {},
   "outputs": [],
   "source": [
    "chain"
   ]
  },
  {
   "cell_type": "code",
   "execution_count": null,
   "metadata": {},
   "outputs": [],
   "source": [
    "print(chain.invoke({\"question\": \"Need farewell registeration link and dates\"}))"
   ]
  },
  {
   "cell_type": "code",
   "execution_count": null,
   "metadata": {},
   "outputs": [],
   "source": [
    "retriever.get_relevant_documents(\"do we need to register for farewell  ? \")"
   ]
  },
  {
   "cell_type": "markdown",
   "metadata": {},
   "source": [
    "# ver. 2"
   ]
  },
  {
   "cell_type": "code",
   "execution_count": 45,
   "metadata": {},
   "outputs": [],
   "source": [
    "import os\n",
    "import pandas as pd\n",
    "import google.generativeai as genai\n",
    "from uuid import uuid4\n",
    "from dotenv import load_dotenv\n",
    "from langchain.prompts import ChatPromptTemplate\n",
    "from langchain.schema.output_parser import StrOutputParser\n",
    "from datetime import datetime\n",
    "from langchain.chains import create_retrieval_chain\n",
    "from langchain.text_splitter import RecursiveCharacterTextSplitter\n",
    "from langchain_community.vectorstores import FAISS\n",
    "\n",
    "from langchain_google_genai import (ChatGoogleGenerativeAI,\n",
    "                                    GoogleGenerativeAIEmbeddings)\n",
    "from database import connect_db\n",
    "import psycopg2\n"
   ]
  },
  {
   "cell_type": "code",
   "execution_count": 46,
   "metadata": {},
   "outputs": [
    {
     "data": {
      "text/plain": [
       "True"
      ]
     },
     "execution_count": 46,
     "metadata": {},
     "output_type": "execute_result"
    }
   ],
   "source": [
    "load_dotenv()\n"
   ]
  },
  {
   "cell_type": "code",
   "execution_count": 68,
   "metadata": {},
   "outputs": [],
   "source": [
    "template = \"\"\"\n",
    "[INTRODUCTION]\n",
    "Your name is KHALNAIK, You are an ARTIFICIAL INTELLIGENCE who help Students to remain query free \n",
    "You were Created and owned by someone known Tony Stank...😼 maybe, \n",
    "\n",
    "[GREETINGS]\n",
    "On receiving any greetings make sure to greet back\n",
    "\n",
    "[HELP]\n",
    "On prompt of `Help` suggest some questions the user could ask you !\n",
    "\n",
    "[OUT OF CONTEXT ANSWERS]\n",
    "Answer the question in humanized sentence, based following context:\n",
    "\n",
    "WHEN question is out of context say the below with the reason for not answering: \n",
    "```\n",
    "Can't help here you may use the followings below :\n",
    "- [WhatsApp](https://wa.me/+919819342606)\n",
    "- [RSET WEBSITE](https://www.rset.edu.in/gscc)```\n",
    "\n",
    "[CONTEXT]\n",
    "\n",
    "<context>\n",
    "{context}\n",
    "</context>\n",
    "\n",
    "[SUGGESTED QUESTIONS]\n",
    "Return Answer in single sencentence in markdown format\n",
    "\n",
    "Suggest more questions with in the context in below format [OPTIONAL]:\n",
    "**You can also ask for** \n",
    " - \n",
    " - \n",
    " - \n",
    "\n",
    "Question:{input}\n",
    "\"\"\"\n"
   ]
  },
  {
   "cell_type": "code",
   "execution_count": 83,
   "metadata": {},
   "outputs": [],
   "source": [
    "# Configure Google Generative AI\n",
    "genai.configure(api_key=os.environ[\"GOOGLE_API_KEY\"])\n",
    "\n",
    "\n",
    "# Initialize Google Generative AI chatbot\n",
    "llm = ChatGoogleGenerativeAI(model=\"gemini-pro\", temperature=0.7)\n",
    "\n",
    "with open(r'assets/general_qna - Copy.txt', 'r') as file:\n",
    "    data = file.read()\n",
    "\n",
    "# Initialize embeddings and vectorstore\n",
    "embeddings = GoogleGenerativeAIEmbeddings(model=\"models/embedding-001\")\n",
    "\n",
    "# Text splitting component\n",
    "text_splitter = RecursiveCharacterTextSplitter()  # Clearly instantiate the splitter\n",
    "splits = text_splitter.split_text(data)  # Split the input data\n",
    "\n",
    "# Vector store for embedding representations\n",
    "vectorstore = FAISS.from_texts(splits, embeddings)  # Construct vector store from text and embeddings\n",
    "retriever = vectorstore.as_retriever()  # Designate the vector store as a retrieval engine \n",
    "\n",
    "# Document prompt creation\n",
    "doc_prompt = ChatPromptTemplate.from_template(template=template)  # Create prompt from template\n",
    "doc_chain = doc_prompt | llm | StrOutputParser()  # Chain prompt, LLM, and output parser\n",
    "\n",
    "# Retriever integration\n",
    "retriever_chain = create_retrieval_chain(retriever, doc_chain)  # Build chain for retr\n"
   ]
  },
  {
   "cell_type": "code",
   "execution_count": 90,
   "metadata": {},
   "outputs": [
    {
     "name": "stdout",
     "output_type": "stream",
     "text": [
      "{'input': 'Give me notes for ITSMalso make sure to share me the most relevant link', 'context': [Document(page_content='[Semester 5] - full Syllabus at https://drive.google.com/file/d/1G6E_Sy5Jz679oUqh8oVay8rzhXM1p26H/view?usp=drivesdk\\nSemester 5 notes for all subjects available https://drive.google.com/drive/u/0/folders/1z8LI-QtaaWDLpz2tzSUetW4sJvmNOblp\\nSemester 5 notes for Enterprise Java (EJ) available https://drive.google.com/drive/u/0/folders/1mcHyH5EawLjyM83jDNFSmnOYYGSm9PA1\\nSemester 5 notes for Artificial Intelligence (AI) available https://drive.google.com/drive/folders/1vaXpGYOs6ij2yNhVKia0fvKE3uVCL58Q\\nSemester 5 notes for Advanced Web Programming (AWP) available https://drive.google.com/drive/u/0/folders/1vZjcqGiBGkauifd52gHXydPKe16Jw9Ak\\nSemester 5 notes for Internet Of Things (IOT) available https://drive.google.com/drive/u/0/folders/121nk9A6nlDAqB27LCT6pugyaL1aqmT6s\\nSemester 5 notes for Software Project Management (SPM) available https://drive.google.com/drive/u/0/folders/1ZDl5CnpUP26qzRtMq1MHVseF4DTPAutw'), Document(page_content=\"The Farewell Party for TY BSc IT Batch 2023-24 at Saraf College is scheduled for Monday, 18th March 2024, starting at 11:30 AM. The event will take place at Durghadevi Saraf Hall (D.S Hall). To attend, please ensure you register via the provided https://docs.google.com/forms/d/10FWC5PDk7h9Z1dJVYRosYjrzSHPSHs_5Vn4A4B8nJ7Y/edit. The registration deadline is 11th March 2024.\\nFor those seeking internship opportunities, the Placement Cell has made announcements. If you haven't already registered with the Placement Cell for internships, you can do so by completing the https://forms.gle/ipC2vkXt944YYDaE9 and joining the https://chat.whatsapp.com/Eik8jRxkdxK5jUKEi2iQLL as outlined. Benefits of registering include exposure to various internship opportunities without any registration fees. For further inquiries, you can reach out to Prof. Rajendra Patil or Prof. Aradhana Jha at the provided contact numbers.\\nTime table for regular examination schedules for Sem-6 is available at https://snipboard.io/viwnK9.jpg\\nTime table and  ATKT examination schedules for Sem-6 is available at https://snipboard.io/KifLyF.jpg\\nShraddha Kokate has issued important deadlines for submission. All journal submissions for all subjects are due on Thursday, 28th March 2024, in the LC. Additionally, Black Book submissions are required by 2nd April 2024, to be handed in at the Learning Center Classroom.\\nPlease ensure to register yourself on the ALUMNI PORTAL using the following link: https://alumni.sarafcollege.org. Additionally, it's important to join the ALUMNI ASSOCIATION WhatsApp group for receiving all important notifications. Here's the link to join: https://chat.whatsapp.com/LAborei5AMZ9zJA217x1be. Regards, Alumni Committee.\\n\\n\\n**SEMESTER V:** \\nFor Semester V, Syllabus for Semester V\\n    Internet of Things Practical\\n    Artificial Intelligence Practical\\n    Software Project Management\\n    Enterprise Java\\n    Artificial Intelligence\\n    Internet of Things\\n    Advanced Web Programming\\n    Advanced Web Programming Practical\\n\\n**SEMESTER VI:** \\nFor Semester VI, Syllabus for Semester VI\\n    IT Services Management  \\n    Cyber Laws  \\n    Software Quality Assurance  \\n    Project Implementation  \\n    Business Intelligence  \\n    Business Intelligence Practical\\n\\n[Semester 6] full Syllabus at https://drive.google.com/file/d/1t5a_jP8CsAsxig2f4EpQ39opuceKsq8C/view\\nSemester 6 notes for all subjects available https://drive.google.com/drive/folders/1ehQBqEFF9D0A-uziGxFPGFoMVLflPHSx\\nSemester 6 notes for Software Quality Analysis (SQA) available https://drive.google.com/drive/folders/1yUq_mNqUQnOc_c2NGeBJk1CYlmB_1S2w\\nSemester 6 notes for Information Technologies Service Management (ITSM) available https://drive.google.com/drive/folders/1vaXpGYOs6ij2yNhVKia0fvKE3uVCL58Q\\nSemester 6 notes for Business Intelligence (BI) available https://drive.google.com/drive/folders/1jAfbaCjf93DIw1ZSpJ2IjlLM8bnVbdA6\\nSemester 6 notes for Security In Computing (SIC) available https://drive.google.com/drive/folders/1QJo3Oljsd1-HI_kfcSlOnkBM6tcZdZPf\\nSemester 6 notes for  Geographic Information Systems (GIS) available https://drive.google.com/drive/folders/18iSGar13Xu6Y6oXNc7yXlb2FdWE6ZCbS\")], 'answer': 'Here is the link for Semester 6 notes for Information Technologies Service Management (ITSM) : https://drive.google.com/drive/folders/1vaXpGYOs6ij2yNhVKia0fvKE3uVCL58Q\\n\\n**You can also ask for** \\n - Syllabus for Semester 6\\n - Notes for other subjects in Semester 6\\n - Deadlines for submission in Semester 6'}\n"
     ]
    }
   ],
   "source": [
    "response = retriever_chain.invoke({\n",
    "            'input': 'Give me notes for ITSM'+'also make sure to share me the most relevant link'\n",
    "        })\n",
    "print(response)"
   ]
  },
  {
   "cell_type": "code",
   "execution_count": 91,
   "metadata": {},
   "outputs": [
    {
     "name": "stdout",
     "output_type": "stream",
     "text": [
      "Here is the link for Semester 6 notes for Information Technologies Service Management (ITSM) : https://drive.google.com/drive/folders/1vaXpGYOs6ij2yNhVKia0fvKE3uVCL58Q\n",
      "\n",
      "**You can also ask for** \n",
      " - Syllabus for Semester 6\n",
      " - Notes for other subjects in Semester 6\n",
      " - Deadlines for submission in Semester 6\n"
     ]
    }
   ],
   "source": [
    "print(response['answer'])"
   ]
  },
  {
   "cell_type": "code",
   "execution_count": 93,
   "metadata": {},
   "outputs": [],
   "source": [
    "\n",
    "with open(r'assets/general_qna.txt', 'r') as file:\n",
    "    data = file.read()\n",
    "\n",
    "with open(r'assets/class_qna.txt', 'r') as file:\n",
    "    data += file.read()\n",
    "\n"
   ]
  },
  {
   "cell_type": "code",
   "execution_count": null,
   "metadata": {},
   "outputs": [],
   "source": []
  },
  {
   "cell_type": "code",
   "execution_count": 94,
   "metadata": {},
   "outputs": [
    {
     "data": {
      "text/plain": [
       "\"Rajasthani Sammelan Education Trust (RSET) Overview:\\n\\n- Established in 1948 at Malad, Mumbai\\n- Registered public charitable trust\\n- Aims to promote educational, charitable, and social activities\\n- Provides educational opportunities from primary to post-graduation\\n- Fields include Commerce, Management, Information Technology, and Media Studies\\n- Caters to social and humanitarian needs\\n- Initially started educational activities for girls, later opened to boys\\n- Over 15,000 students currently enrolled in various institutions\\n- Thousands more enrolled with Kunjbihari S. Goyal Online Academy (GOLD)\\n\\nEducational Institutions and Organizations:\\n\\nEducational Institutions owned and run by RSET:\\n- Kudilal Govindram Seksaria Sarvodaya School\\n- Kudilal Govindram Seksaria English School\\n- Ramniwas Bajaj English High School\\n- Mainadevi Bajaj International School\\n- Mainadevi Bajaj International Playschool\\n- Durgadevi Saraf Junior College\\n- Ghanshyamdas Saraf College of Arts & Commerce\\n- Kirandevi Saraf Institute of Complete Learning\\n- Durgadevi Saraf Institute of Management Studies\\n- Deviprasad Goenka Management College of Media Studies\\n- Ladhidevi Ramdhar Maheshwari Night College of Commerce\\n- Kunjbihari S. Goyal Online Academy\\n\\nOther organizations owned and managed by Rajasthani Sammelan:\\n- Draupadidevi Sanwarmal Women's Hostel\\n- Ramdhar Maheshwari Career Counseling Centre<html>\\n- Pravinchandra D. Shah Sports Academy\\n- Jankidevi Bilasrai Bubna Boys' Hostel\\n\\nFacilities and Services:\\n\\n- Dhurmal Bajaj Bhavan (Community Hall)\\n- Durgadevi Saraf Hall\\n- IT Hub\\n- Food Court\\n- Ramnarayan Saraf Educational Outlet\\n- RS CA Study Centre\\n- IRB Endowment Scholarship Fund\\n- Vijay Pal Singh Health Centre\\n- Kirandevi Saraf Library and Reading Room\\n- BKT Endowment Freeship Fund\\n- Janakidevi Bilasrai Bubna Endowment Freeship Fund\\n- Lalchand Dalmia Golf Cart\\n- Financial assistance for medical treatment through Trivenidevi Deora Chikitsa Sahayta Kosh\\n- Scholarships for needy students\\n\\nInfrastructure and Renovation:\\n\\n- Completed a renovation project, constructing a twelve-storied building\\n- Houses Durgadevi Saraf Institute of Management Studies, Mainadevi Bajaj International School, Kudilal Govindram Seksaria Sarvodaya School, Kudilal Govindram Seksaria English School, and Druapadidevi Sanwarmal Women's Hostel\\n- Constructed a new building for Ramniwas Bajaj English High School and Deviprasad Goenka Management College of Media Studies\\n\\nBSc-IT (Bachelor of Science in Information Technology) Program:\\n\\n- Undergraduate degree program focusing on information technology, computer science, and applications\\n- Requires 10+2 education with a background in Science or Information Technology and mathematics\\n- Duration of three years, divided into six semesters\\n- Covers subjects like Programming Languages, Database Management Systems, Web Technologies, Networking, Software Engineering, and Computer Graphics\\n- Career opportunities in Software Development, Web Development, Database Administration, Network Administration, IT Consulting, System Analysis\\n- Allows for higher studies like MSc in Information Technology, MCA, or specialized certifications\\n- Admission procedures involve filling out application forms on RSET and Digital University websites, meeting eligibility criteria\\n- No upper age limit, scholarships available based on academic merit, financial need, or other criteria\\n- No part-time or evening classes offered\\n- Focuses more on the science and theory behind information technology\\n- Fees structure varies from Rs. 25,000 to Rs. 30,000 per year\\n- Practical training, including hands-on lab sessions, projects, and internships, is an essential component\\n- Research opportunities in areas like artificial intelligence, data science, cybersecurity, and information systems\\n- Industry certifications like CCNA, MCSA, and OCA can enhance employability\\n- Exchange programs, internships, and collaborative research opportunities with universities\\n- Placement Cell provides opportunities for campus placements and skill development activities\\n- Program spans six semesters, featuring core subjects like Programming Principles with C, Digital Logic and Applications, Fundamentals of Database Management Systems, Computational Logic and Discrete Structure in the first semester\\n- Subsequent semesters introduce additional core and skill enhancement courses like Object-Oriented Programming with C++, Python Programming, Software Project Management, and elective courses such as Artificial Intelligence and Enterprise Java\\n- Eligibility criteria: Passed XII (HSC or equivalent) examination in the first attempt, attaining a minimum of 45% marks for the Open Category and 40% marks for the Reserve Category (applies to candidates from Science, Commerce, or Arts streams)\\n- 120 seats offered, with 50% reserved for individuals belonging to the Hindi-speaking linguistic minority\\n- Strong emphasis on essential subjects like Software, Database, and Networking\\n- Industry-oriented curriculum to prepare graduates for real-world technical challenges\\n- Opportunities across sectors like Electronics Information Technology, Communication, Manufacturing, Finance, and Business\\n\\nCafeteria:\\n\\n- RSET has started a Cafeteria in its premises\\n- Provides snacks to students and staff of all institutions\\n- Located on the ground floor, south side of Durgadevi Saraf Hall\\n- Supplies snacks and beverages to the canteens of all institutions and the hostel\\n\\nGhanshyamdas Saraf College of Arts & Commerce (GSCC):\\n\\n- Established in 1983 under the umbrella of RSET\\n- Re-accredited by NAAC with B+ Grade\\n- Provides a comfortable environment for students to excel in commerce and arts\\n- Features state-of-the-art academic infrastructure and highly qualified faculty\\n- Offers amenities like a canteen, Students Common Room, Communication Centre, Cyber Zone, Fitness Club, Games Room, Hi-tech Audio-Visual Learning Centre, Media Lab, Seminar Room, and an Auditorium with a seating capacity of 300\\n- Established in 1983 in Mumbai\\n- Affiliated with the University of Mumbai, not an autonomous college\\n- Offers UG, PG, and PhD programs\\n- Admission is merit-based, considering marks from the last attempted exam or program\\n- Admission procedure is online, with applications available on the official website\\n- Dedicated placements cell looks after placement and internship activities\\n- Top recruiters who have visited the campus include Barclays Bank, Ace Technologies, Pearl Academy, Arihant Academy, and more\\n\\nResearch Cell:\\n\\n- Established in 2016 to promote and facilitate research activities\\n- Fosters a culture of research and academic excellence\\n- Oversees and coordinates research programs for faculty and students\\n- Encourages a scientific and rational approach in academic activities\\n- Deals with research on emerging trends and multidisciplinary areas\\n- Inculcates a sense of research awareness among students and faculty\\n\\nB.Sc. Information Technology Program Objectives:\\n\\n- Foster analytical, creative, and critical thinking skills to develop robust and adaptable technological solutions\\n- Equip students with knowledge and skills for IT professional careers or further education\\n- Cultivate project management abilities, considering human, financial, and environmental factors\\n- Emphasize teamwork to achieve common goals\\n- Adhere to ethical standards and relevant industry and organizational codes of conduct\\n- Develop effective communication skills with both technical and non-technical audiences\\n- Encourage a mindset of continuous professional development\\n- Newly designed three-year syllabus encompasses industry-relevant courses\\n- Prepares students for various job opportunities, including software development, website development, mobile app development, embedded systems programming and development, software testing, networking, database administration, system administration, cyber law consultancy, GIS, IT service desk, and security\\n\\nFirst Year (FYBSc IT)\\n Semester I for more information - https://drive.google.com/drive/folders/17MgECd5cOOYt6Jq0O547red_7MtjamEc\\n- USIT101- Imperative Programming\\n- USIT102- Digital Electronics\\n- USIT103- Operating Systems \\n- USIT104- Discrete Mathematics\\n- USIT105- Communication Skills\\n\\n Semester II  for more information - https://drive.google.com/drive/folders/1FxeZDMVgaERg8T0aLCo84pHRD9iqc_Te \\n- USIT201- Object Oriented Programming\\n- USIT202- Microprocessor Architecture\\n- USIT203- Web Programming\\n- USIT204- Numerical and Statistical Methods\\n- USIT205- Green Computing\\n\\nSecond Year (SYBSc IT)\\n Semester III - for more information - https://drive.google.com/drive/folders/1b7Sn-9xacEONGi-r1sXCjpaaYR3RIeQz\\n- USIT301 – Python Programming\\n- USIT302 – Data Structures\\n- USIT303 – Computer Networks\\n- USIT304 – Database Management Systems\\n- USIT305- Applied Mathematics\\n\\n Semester IV\\n- USIT401 Core Java for more information  - https://drive.google.com/drive/folders/1k0no6bEigKNeSQrTNRn_49jO8afcSHXR\\n- USIT402 Introduction to Embedded Systems\\n- USIT403 Computer Oriented Statistical Techniques\\n- USIT404 Software Engineering\\n- USIT405 Computer Graphics and Animation\\n\\nThird Year (TYBSc IT)\\n Semester V - https://drive.google.com/drive/folders/1k0no6bEigKNeSQrTNRn_49jO8afcSHXR\\n- USIT502 – Internet of Things\\n- USIT501 – Software Project Management\\n- USIT504 – Artificial Intelligence\\n- USIT506 – Enterprise Java\\n- USIT503 – Advanced Web Programming\\n\\n Semester VI - https://drive.google.com/drive/folders/1almZ0U0NAFX6FJd0kWEsuNwNXYmbtfH4\\n- USIT603- Business Intelligence\\n- USIT606- IT Service Management\\n- USIT604- Principles of Geographic Information Systems\\n- USIT601: Software Quality Assurance\\n- USIT602: Security in ComputingThe Farewell Party for TY BSc IT Batch 2023-24 at Saraf College is scheduled for Monday, 18th March 2024, starting at 11:30 AM. The event will take place at Durghadevi Saraf Hall (D.S Hall). To attend, please ensure you register via the provided https://docs.google.com/forms/d/10FWC5PDk7h9Z1dJVYRosYjrzSHPSHs_5Vn4A4B8nJ7Y/edit. The registration deadline is 11th March 2024.\\nFor those seeking internship opportunities, the Placement Cell has made announcements. If you haven't already registered with the Placement Cell for internships, you can do so by completing the https://forms.gle/ipC2vkXt944YYDaE9 and joining the https://chat.whatsapp.com/Eik8jRxkdxK5jUKEi2iQLL as outlined. Benefits of registering include exposure to various internship opportunities without any registration fees. For further inquiries, you can reach out to Prof. Rajendra Patil or Prof. Aradhana Jha at the provided contact numbers.\\nTime table for regular examination schedules for Sem-6 is available at https://snipboard.io/viwnK9.jpg\\nTime table and  ATKT examination schedules for Sem-6 is available at https://snipboard.io/KifLyF.jpg\\nShraddha Kokate has issued important deadlines for submission. All journal submissions for all subjects are due on Thursday, 28th March 2024, in the LC. Additionally, Black Book submissions are required by 2nd April 2024, to be handed in at the Learning Center Classroom.\\nPlease ensure to register yourself on the ALUMNI PORTAL using the following link: https://alumni.sarafcollege.org. Additionally, it's important to join the ALUMNI ASSOCIATION WhatsApp group for receiving all important notifications. Here's the link to join: https://chat.whatsapp.com/LAborei5AMZ9zJA217x1be. Regards, Alumni Committee.\\n\\n\\n**SEMESTER V:** \\nFor Semester V, Syllabus for Semester V\\n    Internet of Things Practical\\n    Artificial Intelligence Practical\\n    Software Project Management\\n    Enterprise Java\\n    Artificial Intelligence\\n    Internet of Things\\n    Advanced Web Programming\\n    Advanced Web Programming Practical\\n\\n**SEMESTER VI:** \\nFor Semester VI, Syllabus for Semester VI\\n    IT Services Management  \\n    Cyber Laws  \\n    Software Quality Assurance  \\n    Project Implementation  \\n    Business Intelligence  \\n    Business Intelligence Practical\\n\\n[Semester 6] full Syllabus at https://drive.google.com/file/d/1t5a_jP8CsAsxig2f4EpQ39opuceKsq8C/view\\nSemester 6 notes for all subjects available https://drive.google.com/drive/folders/1ehQBqEFF9D0A-uziGxFPGFoMVLflPHSx\\nSemester 6 notes for Software Quality Analysis (SQA) available https://drive.google.com/drive/folders/1yUq_mNqUQnOc_c2NGeBJk1CYlmB_1S2w\\nSemester 6 notes for Information Technologies Service Management (ITSM) available https://drive.google.com/drive/folders/1vaXpGYOs6ij2yNhVKia0fvKE3uVCL58Q\\nSemester 6 notes for Business Intelligence (BI) available https://drive.google.com/drive/folders/1jAfbaCjf93DIw1ZSpJ2IjlLM8bnVbdA6\\nSemester 6 notes for Security In Computing (SIC) available https://drive.google.com/drive/folders/1QJo3Oljsd1-HI_kfcSlOnkBM6tcZdZPf\\nSemester 6 notes for  Geographic Information Systems (GIS) available https://drive.google.com/drive/folders/18iSGar13Xu6Y6oXNc7yXlb2FdWE6ZCbS\\n\\n[Semester 5] - full Syllabus at https://drive.google.com/file/d/1G6E_Sy5Jz679oUqh8oVay8rzhXM1p26H/view?usp=drivesdk\\nSemester 5 notes for all subjects available https://drive.google.com/drive/u/0/folders/1z8LI-QtaaWDLpz2tzSUetW4sJvmNOblp\\nSemester 5 notes for Enterprise Java (EJ) available https://drive.google.com/drive/u/0/folders/1mcHyH5EawLjyM83jDNFSmnOYYGSm9PA1\\nSemester 5 notes for Artificial Intelligence (AI) available https://drive.google.com/drive/folders/1vaXpGYOs6ij2yNhVKia0fvKE3uVCL58Q\\nSemester 5 notes for Advanced Web Programming (AWP) available https://drive.google.com/drive/u/0/folders/1vZjcqGiBGkauifd52gHXydPKe16Jw9Ak\\nSemester 5 notes for Internet Of Things (IOT) available https://drive.google.com/drive/u/0/folders/121nk9A6nlDAqB27LCT6pugyaL1aqmT6s\\nSemester 5 notes for Software Project Management (SPM) available https://drive.google.com/drive/u/0/folders/1ZDl5CnpUP26qzRtMq1MHVseF4DTPAutw\\n\""
      ]
     },
     "execution_count": 94,
     "metadata": {},
     "output_type": "execute_result"
    }
   ],
   "source": [
    "data"
   ]
  }
 ],
 "metadata": {
  "kernelspec": {
   "display_name": "ai_chat",
   "language": "python",
   "name": "python3"
  },
  "language_info": {
   "codemirror_mode": {
    "name": "ipython",
    "version": 3
   },
   "file_extension": ".py",
   "mimetype": "text/x-python",
   "name": "python",
   "nbconvert_exporter": "python",
   "pygments_lexer": "ipython3",
   "version": "3.11.3"
  }
 },
 "nbformat": 4,
 "nbformat_minor": 2
}
